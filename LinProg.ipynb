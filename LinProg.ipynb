{
 "cells": [
  {
   "cell_type": "code",
   "execution_count": 1,
   "id": "1b95dcd0",
   "metadata": {},
   "outputs": [],
   "source": [
    "from scipy.optimize import linprog"
   ]
  },
  {
   "cell_type": "code",
   "execution_count": 2,
   "id": "ca53b7db",
   "metadata": {},
   "outputs": [
    {
     "data": {
      "text/plain": [
       "'\\nMaximize \\nx1 + 2x2 + 3x3  \\nsubject to \\n-x1 + x2 + x3 <= 20 \\nx1 - 3x2 + x3 <= 30  \\nwith these bounds \\n0 <= x1 <= 40 \\n0 <= x2 <= + ∞\\n0 <= x3 <= + ∞\\n'"
      ]
     },
     "execution_count": 2,
     "metadata": {},
     "output_type": "execute_result"
    }
   ],
   "source": [
    "# The problem to be solved\n",
    "'''\n",
    "Maximize \n",
    "x1 + 2x2 + 3x3  \n",
    "subject to \n",
    "-x1 + x2 + x3 <= 20 \n",
    "x1 - 3x2 + x3 <= 30  \n",
    "with these bounds \n",
    "0 <= x1 <= 40 \n",
    "0 <= x2 <= + ∞\n",
    "0 <= x3 <= + ∞\n",
    "'''"
   ]
  },
  {
   "cell_type": "markdown",
   "id": "60776fff",
   "metadata": {},
   "source": [
    "# 1.Using Scipy"
   ]
  },
  {
   "cell_type": "code",
   "execution_count": 3,
   "id": "7f4e74d1",
   "metadata": {},
   "outputs": [],
   "source": [
    "objective=[-1,-2,-3]\n",
    "left_hand_side_inequality=[[-1,1,1],\n",
    "                           [1,-3,1]]\n",
    "\n",
    "right_hand_side_inequality=[20,30]\n",
    "\n",
    "bounds=[(0,40),(0,float(\"inf\")),(0,float(\"inf\"))]\n"
   ]
  },
  {
   "cell_type": "code",
   "execution_count": 4,
   "id": "b0a7eaf0",
   "metadata": {},
   "outputs": [],
   "source": [
    "optimizer=linprog(c=objective, A_ub=left_hand_side_inequality, b_ub=right_hand_side_inequality\n",
    "                  ,bounds=bounds)"
   ]
  },
  {
   "cell_type": "code",
   "execution_count": 5,
   "id": "2be7603d",
   "metadata": {},
   "outputs": [
    {
     "name": "stdout",
     "output_type": "stream",
     "text": [
      "     con: array([], dtype=float64)\n",
      "     fun: -202.49999999314227\n",
      " message: 'Optimization terminated successfully.'\n",
      "     nit: 5\n",
      "   slack: array([6.00884675e-10, 4.11225898e-09])\n",
      "  status: 0\n",
      " success: True\n",
      "       x: array([40. , 17.5, 42.5])\n"
     ]
    }
   ],
   "source": [
    "print(optimizer)"
   ]
  },
  {
   "cell_type": "markdown",
   "id": "0420d772",
   "metadata": {},
   "source": [
    "# 2. Using PuLP and CPLEX"
   ]
  },
  {
   "cell_type": "code",
   "execution_count": 6,
   "id": "114db8e5",
   "metadata": {},
   "outputs": [
    {
     "name": "stdout",
     "output_type": "stream",
     "text": [
      "Requirement already satisfied: pulp in c:\\users\\a.bayat\\anaconda3\\lib\\site-packages (2.7.0)\n"
     ]
    }
   ],
   "source": [
    "import sys\n",
    "!{sys.executable} -m pip install pulp\n",
    "from pulp import LpMaximize, LpProblem, LpStatus, lpSum, LpVariable, CPLEX_CMD"
   ]
  },
  {
   "cell_type": "code",
   "execution_count": 7,
   "id": "2a7a1d31",
   "metadata": {},
   "outputs": [],
   "source": [
    "model = LpProblem(name='SimpleP', sense=LpMaximize)\n",
    "x1 = LpVariable(name=\"x1\", lowBound=0, upBound=40)\n",
    "x2 = LpVariable(name=\"x2\", lowBound=0)\n",
    "x3 = LpVariable(name=\"x3\", lowBound=0)"
   ]
  },
  {
   "cell_type": "code",
   "execution_count": 8,
   "id": "b7ef2b2c",
   "metadata": {},
   "outputs": [],
   "source": [
    "model += (-x1 + x2 + x3 <= 20 ,'Constraint Number 1')\n",
    "model += (x1 -3* x2 + x3 <= 30 ,'Constraint Number 2')"
   ]
  },
  {
   "cell_type": "code",
   "execution_count": 9,
   "id": "6f53dba2",
   "metadata": {},
   "outputs": [],
   "source": [
    "# Adding Objective Function\n",
    "model += lpSum([x1, 2*x2, 3*x3])"
   ]
  },
  {
   "cell_type": "code",
   "execution_count": 13,
   "id": "d01e6348",
   "metadata": {},
   "outputs": [],
   "source": [
    "# Connecting CPLEX to Python to solve the problem\n",
    "path_to_cplex = r'C:\\Program Files\\IBM\\ILOG\\CPLEX_Studio221\\cplex\\bin\\x64_win64\\cplex.exe'\n",
    "solver = CPLEX_CMD(path=path_to_cplex)\n",
    "status = model.solve(solver=solver)"
   ]
  },
  {
   "cell_type": "code",
   "execution_count": 14,
   "id": "ee6a048d",
   "metadata": {},
   "outputs": [
    {
     "name": "stdout",
     "output_type": "stream",
     "text": [
      "status: 1, Optimal\n",
      "objective: 202.5\n",
      "x1: 40.0\n",
      "x2: 17.5\n",
      "x3: 42.5\n",
      "Constraint_Number_1: 0.0\n",
      "Constraint_Number_2: 0.0\n"
     ]
    }
   ],
   "source": [
    "print(f\"status: {model.status}, {LpStatus[model.status]}\")\n",
    "print(f\"objective: {model.objective.value()}\")\n",
    "for var in model.variables():\n",
    "    print(f\"{var.name}: {var.value()}\")\n",
    "\n",
    "for name, constraint in model.constraints.items():\n",
    "    print(f\"{name}: {constraint.value()}\")\n",
    "    "
   ]
  }
 ],
 "metadata": {
  "kernelspec": {
   "display_name": "Python 3 (ipykernel)",
   "language": "python",
   "name": "python3"
  },
  "language_info": {
   "codemirror_mode": {
    "name": "ipython",
    "version": 3
   },
   "file_extension": ".py",
   "mimetype": "text/x-python",
   "name": "python",
   "nbconvert_exporter": "python",
   "pygments_lexer": "ipython3",
   "version": "3.9.12"
  }
 },
 "nbformat": 4,
 "nbformat_minor": 5
}
